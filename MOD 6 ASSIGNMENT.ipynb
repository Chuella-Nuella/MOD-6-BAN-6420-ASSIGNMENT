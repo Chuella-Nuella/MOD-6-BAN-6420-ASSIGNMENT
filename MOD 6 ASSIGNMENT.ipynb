{
 "cells": [
  {
   "cell_type": "code",
   "execution_count": null,
   "id": "d57eb56d-c5b2-41cd-831d-70689d15d9d7",
   "metadata": {},
   "outputs": [],
   "source": [
    "#Introduction\n",
    "#The Fashion MNIST dataset is a popular machine learning benchmark that consists of grayscale images of clothing items, each belonging to one of ten classes.\n",
    "#This assignment focuses on implementing a Convolutional Neural Network (CNN) using Keras to classify these images into their respective categories. \n",
    "#The goal is to train a model that can accurately predict the type of clothing item based on the input image, enabling potential applications such as \n",
    "#targeted marketing or inventory management.\n",
    "\n",
    "#The ten classes in the Fashion MNIST dataset, along with their corresponding class names, are as follows:\n",
    "#Label \tDescription\n",
    "#- 0  -\tT-shirt/top\n",
    "#- 1  -\tTrouser\n",
    "#- 2  -\tPullover\n",
    "#- 3  -\tDress\n",
    "#- 4  -\tCoat\n",
    "#- 5  -\tSandal\n",
    "#- 6  -\tShirt\n",
    "#- 7  -\tSneaker\n",
    "#- 8  -\tBag\n",
    "#- 9  -\tAnkle boot"
   ]
  },
  {
   "cell_type": "code",
   "execution_count": null,
   "id": "97f65fa5-c5bc-438d-ad03-c1d058288fd9",
   "metadata": {},
   "outputs": [],
   "source": [
    "#Description of Steps Taken\n",
    "#The following steps outline the process to build and evaluate a Convolutional Neural Network (CNN) for Fashion MNIST classification using\n",
    "#Python and TensorFlow/Keras:"
   ]
  },
  {
   "cell_type": "code",
   "execution_count": 138,
   "id": "de32b0cb-e0e1-4367-b95b-b7c6acc4012a",
   "metadata": {},
   "outputs": [],
   "source": [
    " #  import libraries\n",
    "import tensorflow as tf\n",
    "from tensorflow.keras import Sequential\n",
    "from tensorflow.keras.layers import Conv2D, MaxPooling2D, Flatten, Dense, Dropout\n",
    "from tensorflow.keras.datasets import fashion_mnist\n",
    "from tensorflow.keras.utils import to_categorical\n",
    "from sklearn.model_selection import train_test_split\n",
    "import numpy as np\n",
    "import matplotlib.pyplot as plt"
   ]
  },
  {
   "cell_type": "code",
   "execution_count": null,
   "id": "03f5c9ea-9e87-4e1b-b4d6-32457c1fc82e",
   "metadata": {},
   "outputs": [],
   "source": [
    "# Load the Dataset\n",
    "#Imported the fashion_mnist dataset from Keras.\n",
    "#Split the data into training (x_train, y_train) and testing (x_test, y_test) sets.\n",
    "#This dataset contains grayscale images of size 28x28 pixels and 10 target classes:\n",
    "#T-shirt/top, Trouser, Pullover, Dress, Coat, Sandal, Shirt, Sneaker, Bag, Ankle boot."
   ]
  },
  {
   "cell_type": "code",
   "execution_count": 140,
   "id": "955fc8f4-90f3-44d2-b252-fdf6bd9ff7c8",
   "metadata": {},
   "outputs": [],
   "source": [
    "# Step 1: Load the Fashion MNIST dataset\n",
    "(x_train, y_train), (x_test, y_test) = fashion_mnist.load_data()"
   ]
  },
  {
   "cell_type": "code",
   "execution_count": null,
   "id": "b25dc260-8cb2-4409-9f6c-34fb7ad6b46f",
   "metadata": {},
   "outputs": [],
   "source": [
    "#Preprocess the Data\n",
    "#Reshaped the data to include a single channel (28, 28, 1) for grayscale images.\n",
    "#Normalized pixel values by dividing by 255 to scale them to the range [0, 1].\n",
    "# print for confirmation"
   ]
  },
  {
   "cell_type": "code",
   "execution_count": 142,
   "id": "8b50b070-41cd-4641-a0e0-c073e98530c2",
   "metadata": {},
   "outputs": [],
   "source": [
    "# Step 2: Preprocess the data\n",
    "# Normalize the pixel values to the range [0, 1]\n",
    "x_train = x_train.reshape(-1, 28, 28, 1).astype('float32') / 255.0\n",
    "x_test = x_test.reshape(-1, 28, 28, 1).astype('float32') / 255.0"
   ]
  },
  {
   "cell_type": "code",
   "execution_count": 144,
   "id": "5d7bd4cc-1eb6-4f2a-89ef-f4bef1479013",
   "metadata": {},
   "outputs": [],
   "source": [
    "# Convert labels to categorical\n",
    "y_train = tf.keras.utils.to_categorical(y_train, 10)\n",
    "y_test = tf.keras.utils.to_categorical(y_test, 10)"
   ]
  },
  {
   "cell_type": "code",
   "execution_count": 146,
   "id": "e4ccd642-ded4-45c3-88f0-7ec0e3ae96e2",
   "metadata": {},
   "outputs": [
    {
     "name": "stdout",
     "output_type": "stream",
     "text": [
      "(60000, 28, 28, 1)\n",
      "(60000, 10)\n",
      "(10000, 28, 28, 1)\n",
      "(10000, 10)\n"
     ]
    }
   ],
   "source": [
    "print(x_train.shape)  # Should be (60000, 28, 28, 1)\n",
    "print(y_train.shape)  # Should be (60000,)\n",
    "print(x_test.shape)   # Should be (10000, 28, 28, 1)\n",
    "print(y_test.shape)   # Should be (10000,)"
   ]
  },
  {
   "cell_type": "code",
   "execution_count": null,
   "id": "c502314b-3b89-41ed-9d7a-51d10ec62c31",
   "metadata": {},
   "outputs": [],
   "source": [
    "#Define the CNN Model\n",
    "#Built a CNN using the Sequential API from TensorFlow/Keras:\n",
    "#Layer 1: Conv2D with 32 filters of size (3, 3), ReLU activation.\n",
    "#Layer 2: MaxPooling2D with a pool size of (2, 2).\n",
    "#Layer 3: Conv2D with 64 filters of size (3, 3), ReLU activation.\n",
    "#Layer 4: MaxPooling2D with a pool size of (2, 2).\n",
    "#Layer 5: Flatten layer to convert 2D data into 1D vectors.\n",
    "#Layer 6: Fully connected Dense layer with 128 units, ReLU activation, and a Dropout rate of 0.5.\n",
    "#Output Layer: Fully connected Dense layer with 10 units and softmax activation for multi-class classification."
   ]
  },
  {
   "cell_type": "code",
   "execution_count": 148,
   "id": "89cdc192-495f-40fe-91f5-3e07daa15d9f",
   "metadata": {},
   "outputs": [],
   "source": [
    "from tensorflow.keras.models import Sequential\n",
    "from tensorflow.keras.layers import Conv2D, MaxPooling2D, Flatten, Dense, Dropout, Input\n",
    "\n",
    "# Step 3: Define the CNN model\n",
    "model = Sequential([\n",
    "    Input(shape=(28, 28, 1)),  # Define input shape here\n",
    "    Conv2D(32, (3, 3), activation='relu'),\n",
    "    MaxPooling2D((2, 2)),\n",
    "    Conv2D(64, (3, 3), activation='relu'),\n",
    "    MaxPooling2D((2, 2)),\n",
    "    Flatten(),\n",
    "    Dense(128, activation='relu'),\n",
    "    Dropout(0.5),\n",
    "    Dense(10, activation='softmax')  # 10 classes in Fashion MNIST\n",
    "])"
   ]
  },
  {
   "cell_type": "code",
   "execution_count": 122,
   "id": "8671d540-e903-471b-a3dd-db96f624e88b",
   "metadata": {},
   "outputs": [],
   "source": [
    "#Compile the Model\n",
    "#Used the Adam optimizer to minimize the loss function.\n",
    "#Loss function: sparse_categorical_crossentropy for multi-class classification.\n",
    "#Metrics: Monitored model accuracy during training.\n",
    "#Display attributes"
   ]
  },
  {
   "cell_type": "code",
   "execution_count": 154,
   "id": "9f950fa8-4cc8-4e64-baa3-978888c980dd",
   "metadata": {},
   "outputs": [],
   "source": [
    "# Step 4: Compile the model\n",
    "model.compile(optimizer='adam',\n",
    "              loss='categorical_crossentropy',\n",
    "              metrics=['accuracy'])"
   ]
  },
  {
   "cell_type": "code",
   "execution_count": 156,
   "id": "dc7662ef-d2d3-4c12-bfde-3142355e94e0",
   "metadata": {},
   "outputs": [
    {
     "name": "stdout",
     "output_type": "stream",
     "text": [
      "Epoch 1/12\n",
      "\u001b[1m1500/1500\u001b[0m \u001b[32m━━━━━━━━━━━━━━━━━━━━\u001b[0m\u001b[37m\u001b[0m \u001b[1m31s\u001b[0m 18ms/step - accuracy: 0.7171 - loss: 0.7807 - val_accuracy: 0.8652 - val_loss: 0.3641\n",
      "Epoch 2/12\n",
      "\u001b[1m1500/1500\u001b[0m \u001b[32m━━━━━━━━━━━━━━━━━━━━\u001b[0m\u001b[37m\u001b[0m \u001b[1m25s\u001b[0m 16ms/step - accuracy: 0.8532 - loss: 0.4042 - val_accuracy: 0.8797 - val_loss: 0.3260\n",
      "Epoch 3/12\n",
      "\u001b[1m1500/1500\u001b[0m \u001b[32m━━━━━━━━━━━━━━━━━━━━\u001b[0m\u001b[37m\u001b[0m \u001b[1m26s\u001b[0m 17ms/step - accuracy: 0.8768 - loss: 0.3418 - val_accuracy: 0.8901 - val_loss: 0.2956\n",
      "Epoch 4/12\n",
      "\u001b[1m1500/1500\u001b[0m \u001b[32m━━━━━━━━━━━━━━━━━━━━\u001b[0m\u001b[37m\u001b[0m \u001b[1m24s\u001b[0m 16ms/step - accuracy: 0.8917 - loss: 0.3026 - val_accuracy: 0.8994 - val_loss: 0.2709\n",
      "Epoch 5/12\n",
      "\u001b[1m1500/1500\u001b[0m \u001b[32m━━━━━━━━━━━━━━━━━━━━\u001b[0m\u001b[37m\u001b[0m \u001b[1m24s\u001b[0m 16ms/step - accuracy: 0.8971 - loss: 0.2827 - val_accuracy: 0.8990 - val_loss: 0.2800\n",
      "Epoch 6/12\n",
      "\u001b[1m1500/1500\u001b[0m \u001b[32m━━━━━━━━━━━━━━━━━━━━\u001b[0m\u001b[37m\u001b[0m \u001b[1m24s\u001b[0m 16ms/step - accuracy: 0.9044 - loss: 0.2642 - val_accuracy: 0.9028 - val_loss: 0.2661\n",
      "Epoch 7/12\n",
      "\u001b[1m1500/1500\u001b[0m \u001b[32m━━━━━━━━━━━━━━━━━━━━\u001b[0m\u001b[37m\u001b[0m \u001b[1m24s\u001b[0m 16ms/step - accuracy: 0.9083 - loss: 0.2423 - val_accuracy: 0.9104 - val_loss: 0.2469\n",
      "Epoch 8/12\n",
      "\u001b[1m1500/1500\u001b[0m \u001b[32m━━━━━━━━━━━━━━━━━━━━\u001b[0m\u001b[37m\u001b[0m \u001b[1m24s\u001b[0m 16ms/step - accuracy: 0.9166 - loss: 0.2265 - val_accuracy: 0.9107 - val_loss: 0.2484\n",
      "Epoch 9/12\n",
      "\u001b[1m1500/1500\u001b[0m \u001b[32m━━━━━━━━━━━━━━━━━━━━\u001b[0m\u001b[37m\u001b[0m \u001b[1m24s\u001b[0m 16ms/step - accuracy: 0.9197 - loss: 0.2155 - val_accuracy: 0.9125 - val_loss: 0.2419\n",
      "Epoch 10/12\n",
      "\u001b[1m1500/1500\u001b[0m \u001b[32m━━━━━━━━━━━━━━━━━━━━\u001b[0m\u001b[37m\u001b[0m \u001b[1m24s\u001b[0m 16ms/step - accuracy: 0.9237 - loss: 0.2046 - val_accuracy: 0.9084 - val_loss: 0.2513\n",
      "Epoch 11/12\n",
      "\u001b[1m1500/1500\u001b[0m \u001b[32m━━━━━━━━━━━━━━━━━━━━\u001b[0m\u001b[37m\u001b[0m \u001b[1m24s\u001b[0m 16ms/step - accuracy: 0.9235 - loss: 0.2019 - val_accuracy: 0.9103 - val_loss: 0.2741\n",
      "Epoch 12/12\n",
      "\u001b[1m1500/1500\u001b[0m \u001b[32m━━━━━━━━━━━━━━━━━━━━\u001b[0m\u001b[37m\u001b[0m \u001b[1m25s\u001b[0m 16ms/step - accuracy: 0.9296 - loss: 0.1916 - val_accuracy: 0.9113 - val_loss: 0.2529\n"
     ]
    }
   ],
   "source": [
    "# Step 5: Train the model\n",
    "history = model.fit(\n",
    "    x_train, y_train,\n",
    "    batch_size=32,\n",
    "    epochs=12,\n",
    "    validation_split=0.2\n",
    ")"
   ]
  },
  {
   "cell_type": "code",
   "execution_count": 158,
   "id": "c64e7ce5-2464-40e8-bcc3-cfba6cad81b3",
   "metadata": {},
   "outputs": [
    {
     "name": "stdout",
     "output_type": "stream",
     "text": [
      "dict_keys(['accuracy', 'loss', 'val_accuracy', 'val_loss'])\n"
     ]
    }
   ],
   "source": [
    "# Display the attributes of the history object.\n",
    "print(history.history.keys())"
   ]
  },
  {
   "cell_type": "code",
   "execution_count": 128,
   "id": "3ec798b8-a02b-4aae-b6ad-c73fea2684f9",
   "metadata": {},
   "outputs": [],
   "source": [
    "#Evaluate the Model\n",
    "#Evaluate the trained model on the test set (x_test, y_test).\n",
    "#Printed the test accuracy to assess the model's generalization capability."
   ]
  },
  {
   "cell_type": "code",
   "execution_count": 160,
   "id": "cc85a3db-7b51-4141-8233-3e98b27318d6",
   "metadata": {},
   "outputs": [
    {
     "name": "stdout",
     "output_type": "stream",
     "text": [
      "\u001b[1m313/313\u001b[0m \u001b[32m━━━━━━━━━━━━━━━━━━━━\u001b[0m\u001b[37m\u001b[0m \u001b[1m3s\u001b[0m 8ms/step - accuracy: 0.9050 - loss: 0.2810\n",
      "Test Accuracy: 0.91\n"
     ]
    }
   ],
   "source": [
    "# Step 6: Evaluate the model on the test set\n",
    "test_loss, test_acc = model.evaluate(x_test, y_test)\n",
    "print(f\"Test Accuracy: {test_acc:.2f}\")"
   ]
  },
  {
   "cell_type": "code",
   "execution_count": 162,
   "id": "43a8c2ac-66be-4b89-a1bf-c4c57af6d661",
   "metadata": {},
   "outputs": [],
   "source": [
    "# Label names for Fashion MNIST\n",
    "labels = ['T-shirt/top', 'Trouser', 'Pullover', 'Dress', 'Coat', \n",
    "          'Sandal', 'Shirt', 'Sneaker', 'Bag', 'Ankle boot']"
   ]
  },
  {
   "cell_type": "code",
   "execution_count": null,
   "id": "e1d8dd01-6956-4357-9739-8f3f9a1cc399",
   "metadata": {},
   "outputs": [],
   "source": [
    "#Make Predictions\n",
    "#Made predictions for 5 sample images from the test set.\n",
    "#Visualized the test images along with their predicted and true class labels using the class_names dictionary."
   ]
  },
  {
   "cell_type": "code",
   "execution_count": 164,
   "id": "dc2fdbc9-a8c3-4804-84a9-a4a05e35e7a0",
   "metadata": {},
   "outputs": [
    {
     "name": "stdout",
     "output_type": "stream",
     "text": [
      "\u001b[1m1/1\u001b[0m \u001b[32m━━━━━━━━━━━━━━━━━━━━\u001b[0m\u001b[37m\u001b[0m \u001b[1m0s\u001b[0m 294ms/step\n"
     ]
    }
   ],
   "source": [
    "# Step 7: Make predictions on test data\n",
    "predictions = model.predict(x_test[:5])"
   ]
  },
  {
   "cell_type": "code",
   "execution_count": 166,
   "id": "d2546211-0063-45a6-add5-81e829a65443",
   "metadata": {},
   "outputs": [
    {
     "data": {
      "image/png": "[encoded data removed]",
      "text/plain": [
       "<Figure size 640x480 with 1 Axes>"
      ]
     },
     "metadata": {},
     "output_type": "display_data"
    },
    {
     "data": {
      "image/png": "[encoded data removed]",
      "text/plain": [
       "<Figure size 640x480 with 1 Axes>"
      ]
     },
     "metadata": {},
     "output_type": "display_data"
    },
    {
     "data": {
      "image/png": "[encoded data removed]",
      "text/plain": [
       "<Figure size 640x480 with 1 Axes>"
      ]
     },
     "metadata": {},
     "output_type": "display_data"
    },
    {
     "data": {
      "image/png": "[encoded data removed]",
      "text/plain": [
       "<Figure size 640x480 with 1 Axes>"
      ]
     },
     "metadata": {},
     "output_type": "display_data"
    },
    {
     "data": {
      "image/png": "[encoded data removed]",
      "text/plain": [
       "<Figure size 640x480 with 1 Axes>"
      ]
     },
     "metadata": {},
     "output_type": "display_data"
    }
   ],
   "source": [
    "# Visualize predictions\n",
    "for i in range(5):\n",
    "    plt.imshow(x_test[i].reshape(28, 28), cmap='gray')\n",
    "\n",
    "    predicted_label = np.argmax(predictions[i])  # Get predicted class index\n",
    "    true_label = np.argmax(y_test[i])  # Convert one-hot encoded label to class index\n",
    "\n",
    "    plt.title(f\"Predicted: {class_names[predicted_label]}, True: {class_names[true_label]}\")\n",
    "    plt.axis('off')\n",
    "    plt.show()"
   ]
  },
  {
   "cell_type": "code",
   "execution_count": null,
   "id": "f94bc562-4e3a-49d2-9562-e99092c952f8",
   "metadata": {},
   "outputs": [],
   "source": []
  }
 ],
 "metadata": {
  "kernelspec": {
   "display_name": "Python 3 (ipykernel)",
   "language": "python",
   "name": "python3"
  },
  "language_info": {
   "codemirror_mode": {
    "name": "ipython",
    "version": 3
   },
   "file_extension": ".py",
   "mimetype": "text/x-python",
   "name": "python",
   "nbconvert_exporter": "python",
   "pygments_lexer": "ipython3",
   "version": "3.12.7"
  }
 },
 "nbformat": 4,
 "nbformat_minor": 5
}
